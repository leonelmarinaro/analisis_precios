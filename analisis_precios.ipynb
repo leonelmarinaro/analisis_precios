{
 "cells": [
  {
   "cell_type": "code",
   "execution_count": 1,
   "id": "3b96f997-5a89-4e5a-a9d6-935cdec2db56",
   "metadata": {},
   "outputs": [],
   "source": [
    "import pandas as pd"
   ]
  },
  {
   "cell_type": "code",
   "execution_count": 2,
   "id": "38e84f58-3374-4372-be92-6b5eab217e60",
   "metadata": {},
   "outputs": [],
   "source": [
    "# 1. Importar datos desde un archivo Excel\n",
    "# Cambia 'ruta_al_archivo.xlsx' por la ruta real de tu archivo\n",
    "ruta_archivo = \"ATENEO BASE PLANA (3).xlsx\"\n",
    "df = pd.read_excel(ruta_archivo, header=3)"
   ]
  },
  {
   "cell_type": "code",
   "execution_count": 3,
   "id": "9ee51acd-dfee-41a3-a309-80585d6e5464",
   "metadata": {},
   "outputs": [],
   "source": [
    "for col in df.select_dtypes(include=[\"object\", \"string\"]).columns:\n",
    "    df[col] = df[col].map(lambda x: x.strip() if isinstance(x, str) else x)"
   ]
  },
  {
   "cell_type": "code",
   "execution_count": 4,
   "id": "b7927bc3",
   "metadata": {},
   "outputs": [],
   "source": [
    "df.loc[:, \"dosis_aux\"] = df[\"Dosis3\"].map(\n",
    "    lambda x: 30 if x == 28 else x\n",
    ")\n"
   ]
  },
  {
   "cell_type": "code",
   "execution_count": 5,
   "id": "134df3bf-0711-4e43-b39b-7fed1e1e3d1f",
   "metadata": {},
   "outputs": [],
   "source": [
    "df = df.drop_duplicates()\n",
    "df.reset_index(drop=True, inplace=True)\n"
   ]
  },
  {
   "cell_type": "code",
   "execution_count": 6,
   "id": "b69784b8-5ba9-4c29-a1d3-a1988f4867e2",
   "metadata": {},
   "outputs": [],
   "source": [
    "df_filter_tipo = df[df[\"TIPO\"].isin([\"ME\", \"MINV\"])]\n"
   ]
  },
  {
   "cell_type": "code",
   "execution_count": null,
   "id": "cbca8176",
   "metadata": {},
   "outputs": [],
   "source": [
    "# df_filter_tipo.loc[:, \"dosis_aux\"] = df_filter_tipo[\"Dosis3\"].map(\n",
    "#     lambda x: 30 if x == 28 else x\n",
    "# )\n"
   ]
  },
  {
   "cell_type": "code",
   "execution_count": 7,
   "id": "107bfc76-144d-4ec3-99ea-1ee1e544603c",
   "metadata": {},
   "outputs": [
    {
     "name": "stdout",
     "output_type": "stream",
     "text": [
      "<class 'pandas.core.frame.DataFrame'>\n",
      "RangeIndex: 833 entries, 0 to 832\n",
      "Data columns (total 98 columns):\n",
      " #   Column                       Non-Null Count  Dtype  \n",
      "---  ------                       --------------  -----  \n",
      " 0   TIPO                         833 non-null    object \n",
      " 1   TIPO-MERCADO                 833 non-null    object \n",
      " 2   CODIGO                       833 non-null    object \n",
      " 3   CT                           833 non-null    object \n",
      " 4   CT4                          833 non-null    object \n",
      " 5   Molécula(s)                  833 non-null    object \n",
      " 6   Corp                         833 non-null    object \n",
      " 7   Xplora                       833 non-null    object \n",
      " 8   Laboratorio                  833 non-null    object \n",
      " 9   Marca                        833 non-null    object \n",
      " 10  Presentación                 833 non-null    object \n",
      " 11  FF                           833 non-null    object \n",
      " 12  Lab - Marca                  833 non-null    object \n",
      " 13  Lab - Presentacion           833 non-null    object \n",
      " 14  Mercado                      422 non-null    object \n",
      " 15  Region                       833 non-null    object \n",
      " 16  PrecioMesAct                 783 non-null    float64\n",
      " 17  PrecioMesAnt                 783 non-null    float64\n",
      " 18  Precio3                      0 non-null      float64\n",
      " 19  Precio4                      0 non-null      float64\n",
      " 20  Precio5                      0 non-null      float64\n",
      " 21  Dosis                        710 non-null    float64\n",
      " 22  UN MAT 4                     803 non-null    float64\n",
      " 23  UN MAT 3                     812 non-null    float64\n",
      " 24  UN MAT 2                     813 non-null    float64\n",
      " 25  UN MAT Ant.                  824 non-null    float64\n",
      " 26  UN MAT Act.                  830 non-null    float64\n",
      " 27  UN MTH 11                    819 non-null    float64\n",
      " 28  UN MTH 10                    817 non-null    float64\n",
      " 29  UN MTH 9                     820 non-null    float64\n",
      " 30  UN MTH 8                     822 non-null    float64\n",
      " 31  UN MTH 7                     818 non-null    float64\n",
      " 32  UN MTH 6                     819 non-null    float64\n",
      " 33  UN MTH 5                     818 non-null    float64\n",
      " 34  UN MTH 4                     817 non-null    float64\n",
      " 35  UN MTH 3                     817 non-null    float64\n",
      " 36  UN MTH 2                     818 non-null    float64\n",
      " 37  UN MTH Ant.                  817 non-null    float64\n",
      " 38  UN MTH Act.                  816 non-null    float64\n",
      " 39  UN YTD 4                     803 non-null    float64\n",
      " 40  UN YTD 3                     812 non-null    float64\n",
      " 41  UN YTD 2                     813 non-null    float64\n",
      " 42  UN YTD Ant.                  824 non-null    float64\n",
      " 43  UN YTD Act.                  829 non-null    float64\n",
      " 44  USD MAT 4                    771 non-null    float64\n",
      " 45  USD MAT 3                    790 non-null    float64\n",
      " 46  USD MAT 2                    792 non-null    float64\n",
      " 47  USD MAT Ant.                 815 non-null    float64\n",
      " 48  USD MAT Act.                 830 non-null    float64\n",
      " 49  USD MTH 11                   808 non-null    float64\n",
      " 50  USD MTH 10                   803 non-null    float64\n",
      " 51  USD MTH 9                    810 non-null    float64\n",
      " 52  USD MTH 8                    811 non-null    float64\n",
      " 53  USD MTH 7                    806 non-null    float64\n",
      " 54  USD MTH 6                    807 non-null    float64\n",
      " 55  USD MTH 5                    812 non-null    float64\n",
      " 56  USD MTH 4                    810 non-null    float64\n",
      " 57  USD MTH 3                    811 non-null    float64\n",
      " 58  USD MTH 2                    811 non-null    float64\n",
      " 59  USD MTH Ant.                 810 non-null    float64\n",
      " 60  USD MTH Act.                 810 non-null    float64\n",
      " 61  USD YTD 4                    771 non-null    float64\n",
      " 62  USD YTD 3                    790 non-null    float64\n",
      " 63  USD YTD 2                    792 non-null    float64\n",
      " 64  USD YTD Ant.                 815 non-null    float64\n",
      " 65  USD YTD Act.                 827 non-null    float64\n",
      " 66  LC MAT 4                     771 non-null    float64\n",
      " 67  LC MAT 3                     790 non-null    float64\n",
      " 68  LC MAT 2                     792 non-null    float64\n",
      " 69  LC MAT Ant.                  815 non-null    float64\n",
      " 70  LC MAT Act.                  830 non-null    float64\n",
      " 71  LC MTH 11                    808 non-null    float64\n",
      " 72  LC MTH 10                    804 non-null    float64\n",
      " 73  LC MTH 9                     810 non-null    float64\n",
      " 74  LC MTH 8                     813 non-null    float64\n",
      " 75  LC MTH 7                     807 non-null    float64\n",
      " 76  LC MTH 6                     808 non-null    float64\n",
      " 77  LC MTH 5                     812 non-null    float64\n",
      " 78  LC MTH 4                     810 non-null    float64\n",
      " 79  LC MTH 3                     811 non-null    float64\n",
      " 80  LC MTH 2                     811 non-null    float64\n",
      " 81  LC MTH Ant.                  810 non-null    float64\n",
      " 82  LC MTH Act.                  810 non-null    float64\n",
      " 83  LC YTD 4                     771 non-null    float64\n",
      " 84  LC YTD 3                     790 non-null    float64\n",
      " 85  LC YTD 2                     792 non-null    float64\n",
      " 86  LC YTD Ant.                  815 non-null    float64\n",
      " 87  LC YTD Act.                  828 non-null    float64\n",
      " 88  precio prom                  0 non-null      float64\n",
      " 89  Dosis2                       833 non-null    float64\n",
      " 90  Concentration Type & Factor  831 non-null    object \n",
      " 91  manual farmaceutico          833 non-null    object \n",
      " 92  Dosis3                       833 non-null    float64\n",
      " 93  Precio PVP                   820 non-null    float64\n",
      " 94  Fecha version                833 non-null    object \n",
      " 95  duplicados                   833 non-null    int64  \n",
      " 96  ATC IV                       833 non-null    object \n",
      " 97  dosis_aux                    833 non-null    float64\n",
      "dtypes: float64(77), int64(1), object(20)\n",
      "memory usage: 637.9+ KB\n"
     ]
    }
   ],
   "source": [
    "# 3. Filtrar los datos del laboratorio \"Siegfried\"\n",
    "df_siegfried = df_filter_tipo[df_filter_tipo[\"Laboratorio\"].str.strip() == \"Siegfried\"]\n",
    "df_siegfried = df_siegfried[df_siegfried[\"TIPO\"].isin([\"ME\", \"MINV\"])]\n",
    "df_siegfried = df_siegfried.drop_duplicates()\n",
    "df_siegfried.reset_index(drop=True, inplace=True)\n",
    "df_siegfried.info()"
   ]
  },
  {
   "cell_type": "code",
   "execution_count": 8,
   "id": "3cb5caf1-8c6c-45a3-a143-a79feee74aba",
   "metadata": {},
   "outputs": [],
   "source": [
    "# Elimina columnas de la 22 a la 88 (índices basados en 0)\n",
    "df_filter_tipo = df_filter_tipo.drop(df_filter_tipo.iloc[:, 22:89], axis=1)\n"
   ]
  },
  {
   "cell_type": "code",
   "execution_count": null,
   "id": "64929a5b",
   "metadata": {},
   "outputs": [],
   "source": [
    "# df_filter_tipo[[\n",
    "#     \"TIPO\", \"FF\", \"dosis_aux\", \"Concentration Type & Factor\", \"Molécula(s)\"\n",
    "# ]].dtypes"
   ]
  },
  {
   "cell_type": "code",
   "execution_count": null,
   "id": "afe81b68",
   "metadata": {},
   "outputs": [],
   "source": [
    "# df_siegfried[\n",
    "#     [\"TIPO\", \"FF\", \"Dosis3\", \"Concentration Type & Factor\", \"Molécula(s)\"]\n",
    "# ].dtypes\n"
   ]
  },
  {
   "cell_type": "code",
   "execution_count": 9,
   "id": "8e81650e",
   "metadata": {},
   "outputs": [],
   "source": [
    "\n",
    "# Ahora hacemos merge sobre el df completo\n",
    "df_completo_type_dosis_mol = df_filter_tipo.merge(\n",
    "    df_siegfried[\n",
    "        [\n",
    "            \"TIPO\",\n",
    "            \"FF\",\n",
    "            \"Concentration Type & Factor\",\n",
    "            \"dosis_aux\",\n",
    "            \"Molécula(s)\",\n",
    "            \"Precio PVP\",\n",
    "        ]\n",
    "    ],\n",
    "    left_on=[\"TIPO\", \"FF\", \"dosis_aux\", \"Concentration Type & Factor\", \"Molécula(s)\"],\n",
    "    right_on=[\"TIPO\", \"FF\", \"dosis_aux\", \"Concentration Type & Factor\", \"Molécula(s)\"],\n",
    "    how=\"left\",\n",
    "    suffixes=(\"\", \"_Siegfried\"),\n",
    ")\n"
   ]
  },
  {
   "cell_type": "code",
   "execution_count": null,
   "id": "52006150-11cc-4b5c-aa6c-94b0f2d2493b",
   "metadata": {},
   "outputs": [],
   "source": [
    "df_completo_type_dosis_mol.info()"
   ]
  },
  {
   "cell_type": "code",
   "execution_count": 10,
   "id": "08b018e3-2ed9-40c0-b182-64b8b8c969d2",
   "metadata": {},
   "outputs": [],
   "source": [
    "# Renombrar la columna\n",
    "df_completo_type_dosis_mol.rename(columns={\"Precio PVP_Siegfried\": \"Precio_Siegfried\"}, inplace=True)\n",
    "\n",
    "# Corregir la condición de la asignación\n",
    "df_completo_type_dosis_mol.loc[\n",
    "    df_completo_type_dosis_mol[\"Laboratorio\"] == \"Siegfried\", \"Precio_Siegfried\"\n",
    "] = None\n",
    "\n",
    "# Guardar el DataFrame como archivo CSV\n",
    "# df_completo_type_dosis_mol.to_csv(\"df_completo_type_dosis_mol.csv\", index=False)"
   ]
  },
  {
   "cell_type": "code",
   "execution_count": 11,
   "id": "5b7591ee-73e8-4fe2-adee-ca2d50df91fc",
   "metadata": {},
   "outputs": [],
   "source": [
    "df_completo_type_dosis_mol['dif_vs_sieg'] = (\n",
    "    df_completo_type_dosis_mol['Precio_Siegfried'] / df_completo_type_dosis_mol['Precio PVP'] - 1\n",
    ")"
   ]
  },
  {
   "cell_type": "code",
   "execution_count": 12,
   "id": "7d3d2b41-b4e1-4b00-9f6c-4e7e3a75ccb0",
   "metadata": {},
   "outputs": [
    {
     "name": "stdout",
     "output_type": "stream",
     "text": [
      "    Precio_Siegfried  Precio PVP  dif_vs_sieg\n",
      "26          19093.08    20555.00    -0.071122\n",
      "27          13512.67    20555.00    -0.342609\n",
      "28          19093.08    20555.00    -0.071122\n",
      "29          13512.67    20555.00    -0.342609\n",
      "36           8704.98     9974.25    -0.127255\n"
     ]
    }
   ],
   "source": [
    "print(df_completo_type_dosis_mol[df_completo_type_dosis_mol['dif_vs_sieg'].notna()][['Precio_Siegfried', 'Precio PVP', 'dif_vs_sieg']].head())\n"
   ]
  },
  {
   "cell_type": "code",
   "execution_count": null,
   "id": "30829e96-4c6b-4a1c-8198-5f2e4ba9803a",
   "metadata": {},
   "outputs": [],
   "source": [
    "df_completo_type_dosis_mol.info()"
   ]
  },
  {
   "cell_type": "code",
   "execution_count": 13,
   "id": "d8d83965-301d-4fc4-8a38-234b7a19d76f",
   "metadata": {},
   "outputs": [],
   "source": [
    "df_completo_type_dosis_mol = df_completo_type_dosis_mol.drop_duplicates()\n",
    "df_completo_type_dosis_mol.reset_index(drop=True, inplace=True)\n"
   ]
  },
  {
   "cell_type": "code",
   "execution_count": 16,
   "id": "4d54281b-d1ea-4bb6-bd66-b6d2c9e182c7",
   "metadata": {},
   "outputs": [
    {
     "name": "stdout",
     "output_type": "stream",
     "text": [
      "<class 'pandas.core.frame.DataFrame'>\n",
      "RangeIndex: 20370 entries, 0 to 20369\n",
      "Data columns (total 33 columns):\n",
      " #   Column                       Non-Null Count  Dtype  \n",
      "---  ------                       --------------  -----  \n",
      " 0   TIPO                         20370 non-null  object \n",
      " 1   TIPO-MERCADO                 20370 non-null  object \n",
      " 2   CODIGO                       20370 non-null  object \n",
      " 3   CT                           20368 non-null  object \n",
      " 4   CT4                          20370 non-null  object \n",
      " 5   Molécula(s)                  20370 non-null  object \n",
      " 6   Corp                         20370 non-null  object \n",
      " 7   Xplora                       20370 non-null  object \n",
      " 8   Laboratorio                  20370 non-null  object \n",
      " 9   Marca                        20370 non-null  object \n",
      " 10  Presentación                 20370 non-null  object \n",
      " 11  FF                           20364 non-null  object \n",
      " 12  Lab - Marca                  20370 non-null  object \n",
      " 13  Lab - Presentacion           20370 non-null  object \n",
      " 14  Mercado                      7256 non-null   object \n",
      " 15  Region                       20370 non-null  object \n",
      " 16  PrecioMesAct                 7325 non-null   float64\n",
      " 17  PrecioMesAnt                 7315 non-null   float64\n",
      " 18  Precio3                      0 non-null      float64\n",
      " 19  Precio4                      0 non-null      float64\n",
      " 20  Precio5                      0 non-null      float64\n",
      " 21  Dosis                        7520 non-null   float64\n",
      " 22  Dosis2                       20368 non-null  float64\n",
      " 23  Concentration Type & Factor  20101 non-null  object \n",
      " 24  manual farmaceutico          20262 non-null  object \n",
      " 25  Dosis3                       20368 non-null  float64\n",
      " 26  Precio PVP                   16679 non-null  float64\n",
      " 27  Fecha version                20370 non-null  object \n",
      " 28  duplicados                   20370 non-null  int64  \n",
      " 29  ATC IV                       20370 non-null  object \n",
      " 30  dosis_aux                    20368 non-null  float64\n",
      " 31  Precio_Siegfried             3920 non-null   float64\n",
      " 32  dif_vs_sieg                  3384 non-null   float64\n",
      "dtypes: float64(12), int64(1), object(20)\n",
      "memory usage: 5.1+ MB\n"
     ]
    }
   ],
   "source": [
    "df_completo_type_dosis_mol.info()"
   ]
  },
  {
   "cell_type": "code",
   "execution_count": 17,
   "id": "ebeef51d-28d0-46cd-912a-bb1b01fc9010",
   "metadata": {},
   "outputs": [],
   "source": [
    "df_completo_type_dosis_mol.to_excel(\"df_completo_type_dosis_mol_ff.xlsx\", index=False)"
   ]
  },
  {
   "cell_type": "code",
   "execution_count": null,
   "id": "a8a4ec65-647a-40f4-8a4b-b398953b1af6",
   "metadata": {},
   "outputs": [],
   "source": []
  },
  {
   "cell_type": "code",
   "execution_count": null,
   "id": "fcc871db",
   "metadata": {},
   "outputs": [],
   "source": [
    "\n",
    "# # Ahora hacemos merge sobre el df completo\n",
    "# df_completo_type_dosis_mol = df_filter_tipo.merge(\n",
    "#     df_siegfried[[\"TIPO\", \"FF\", \"Concentration Type & Factor\", \"Dosis3\", \"Molécula(s)\", \"Precio PVP\"]],\n",
    "#     on=[\"TIPO\", \"FF\", \"Concentration Type & Factor\", \"Dosis3\", \"Molécula(s)\"],\n",
    "#     how=\"left\",\n",
    "#     suffixes=(\"\", \"_Siegfried\")\n",
    "# )\n"
   ]
  },
  {
   "cell_type": "code",
   "execution_count": 14,
   "id": "c35e2b7e",
   "metadata": {},
   "outputs": [],
   "source": [
    "df_particular = df_completo_type_dosis_mol[\n",
    "    (\n",
    "        df_completo_type_dosis_mol[\"CODIGO\"].isin([\"3126302\", \"3407801\"])\n",
    "        & (df_completo_type_dosis_mol[\"TIPO\"] == 'ME')\n",
    "    )\n",
    "]\n"
   ]
  },
  {
   "cell_type": "code",
   "execution_count": null,
   "id": "07d84083",
   "metadata": {},
   "outputs": [],
   "source": [
    "df_particular\n"
   ]
  },
  {
   "cell_type": "code",
   "execution_count": 15,
   "id": "db6c1086",
   "metadata": {},
   "outputs": [],
   "source": [
    "fila_1 = df_particular.iloc[0]\n",
    "fila_2 = df_particular.iloc[1]\n",
    "\n",
    "    # Comparar los valores de cada columna\n",
    "comparacion = fila_1 == fila_2"
   ]
  },
  {
   "cell_type": "code",
   "execution_count": null,
   "id": "a0b6962d",
   "metadata": {},
   "outputs": [],
   "source": [
    "comparacion"
   ]
  },
  {
   "cell_type": "code",
   "execution_count": null,
   "id": "29851de3-bc35-48a8-be6c-f1ad887b202b",
   "metadata": {},
   "outputs": [],
   "source": []
  },
  {
   "cell_type": "code",
   "execution_count": null,
   "id": "d6333c46-22a5-4bdc-a268-72f5f42de19c",
   "metadata": {},
   "outputs": [],
   "source": []
  },
  {
   "cell_type": "code",
   "execution_count": null,
   "id": "3eaed571-aa2c-4c47-94b9-aa52aab69217",
   "metadata": {},
   "outputs": [],
   "source": []
  },
  {
   "cell_type": "code",
   "execution_count": null,
   "id": "0bea8ee7-dfdf-4b75-8b91-96bd51c6dcab",
   "metadata": {},
   "outputs": [],
   "source": [
    "df_completo_type_dosis_mol.duplicados.head()"
   ]
  },
  {
   "cell_type": "code",
   "execution_count": null,
   "id": "0da2ea23-4b6d-41f8-83ae-97366a9ee005",
   "metadata": {},
   "outputs": [],
   "source": []
  },
  {
   "cell_type": "code",
   "execution_count": null,
   "id": "add4f001-0408-4e0c-beb5-159f59a70731",
   "metadata": {
    "scrolled": true
   },
   "outputs": [],
   "source": [
    "# 1. Establecer la primera fila como encabezado\n",
    "#df.columns = df.iloc[0]  # Establecer la primera fila como encabezado (índice 0)\n",
    "\n",
    "# 2. Eliminar la fila que se usó como encabezado\n",
    "#df = df.drop(0).reset_index(drop=True)\n",
    "df.head()"
   ]
  },
  {
   "cell_type": "code",
   "execution_count": null,
   "id": "1e65421f-872d-41a1-b57a-96af17ce6502",
   "metadata": {},
   "outputs": [],
   "source": [
    "df.columns"
   ]
  },
  {
   "cell_type": "code",
   "execution_count": null,
   "id": "14cb54df-0d8a-4266-9d49-e9025d8597b6",
   "metadata": {},
   "outputs": [],
   "source": [
    "# 2. Seleccionar solo las columnas necesarias\n",
    "# Cambia los nombres de las columnas por los que están en tu archivo Excel\n",
    "columnas_necesarias = [\"Laboratorio\", \"Concentration Type & Factor\", \"Dosis3\", \"Molécula(s)\", \"Precio PVP\"]\n",
    "df_short = df[columnas_necesarias]"
   ]
  },
  {
   "cell_type": "code",
   "execution_count": null,
   "id": "1239060d-6828-4fb6-a4ed-8eef87782b20",
   "metadata": {},
   "outputs": [],
   "source": [
    "df_short = df_short.applymap(lambda x: x.strip() if isinstance(x, str) else x)"
   ]
  },
  {
   "cell_type": "code",
   "execution_count": null,
   "id": "192bca71-8077-4e44-9cce-521619226813",
   "metadata": {},
   "outputs": [],
   "source": [
    "for col in df_short.select_dtypes(include=[\"object\", \"string\"]).columns:\n",
    "    df_short[col] = df_short[col].map(lambda x: x.strip() if isinstance(x, str) else x)\n"
   ]
  },
  {
   "cell_type": "code",
   "execution_count": null,
   "id": "b0b2c1f8-158b-4f2c-af0e-3cc41e3397ac",
   "metadata": {},
   "outputs": [],
   "source": [
    "df_type_dosis_mol = df_short.merge(\n",
    "    df_siegfried[[\"Concentration Type & Factor\", \"Dosis3\", \"Molécula(s)\", \"Precio PVP\"]],\n",
    "    on=[\"Concentration Type & Factor\", \"Dosis3\", \"Molécula(s)\"],\n",
    "    how=\"left\",\n",
    "    suffixes=(\"\", \"_Siegfried\")\n",
    ")"
   ]
  },
  {
   "cell_type": "code",
   "execution_count": null,
   "id": "8062b3bc-c7c1-4048-bfbe-26e81187d1f7",
   "metadata": {},
   "outputs": [],
   "source": [
    "df_type_dosis_mol.describe()"
   ]
  },
  {
   "cell_type": "code",
   "execution_count": null,
   "id": "5fd003bd-7e04-4c6d-a6dc-50a74674e16f",
   "metadata": {},
   "outputs": [],
   "source": [
    "df_type_dosis_mol.info()"
   ]
  },
  {
   "cell_type": "code",
   "execution_count": null,
   "id": "77125605-a351-4f21-8f14-0961e88578fe",
   "metadata": {},
   "outputs": [],
   "source": [
    "# 4. Realizar un merge para agregar los precios de Siegfried al DataFrame original\n",
    "df_type_mol = df_short.merge(\n",
    "    df_siegfried[[\"Concentration Type & Factor\", \"Dosis3\", \"Molécula(s)\", \"Precio PVP\"]],\n",
    "    on=[\"Concentration Type & Factor\", \"Molécula(s)\"],\n",
    "    how=\"left\",\n",
    "    suffixes=(\"\", \"_Siegfried\")\n",
    ")"
   ]
  },
  {
   "cell_type": "code",
   "execution_count": null,
   "id": "4c0626a4-c5e3-4176-852a-7fbf32fcca23",
   "metadata": {},
   "outputs": [],
   "source": [
    "df_type_mol.describe()"
   ]
  },
  {
   "cell_type": "code",
   "execution_count": null,
   "id": "a36e79cd-79d9-4084-b6b8-4f0eb9130577",
   "metadata": {},
   "outputs": [],
   "source": [
    "df_type_mol.info()"
   ]
  },
  {
   "cell_type": "code",
   "execution_count": null,
   "id": "260ddd72-36a5-425a-9777-5ab0cc3f5890",
   "metadata": {},
   "outputs": [],
   "source": [
    "df_type_mol.to_csv(\"tipo_mol.csv\", index=False)\n",
    "df_type_dosis_mol.to_csv(\"tipo_molecula_dosis.csv\", index=False)\n"
   ]
  },
  {
   "cell_type": "code",
   "execution_count": null,
   "id": "f4452378-9b0d-4688-b89c-58c105448c01",
   "metadata": {},
   "outputs": [],
   "source": [
    "df_type_dosis_mol[df_type_dosis_mol[\"Molécula(s)\"] == \"Aciclovir\"].head()"
   ]
  },
  {
   "cell_type": "code",
   "execution_count": null,
   "id": "0b18512f-8364-41b5-b61b-d58e3a27a78c",
   "metadata": {},
   "outputs": [],
   "source": [
    "df_siegfried.describe()"
   ]
  },
  {
   "cell_type": "code",
   "execution_count": null,
   "id": "b48c4825-217f-4331-85a3-c27e1380fa94",
   "metadata": {},
   "outputs": [],
   "source": [
    "df_short[df_short[\"Laboratorio\"].str.strip() == \"Siegfried\"].count()"
   ]
  },
  {
   "cell_type": "code",
   "execution_count": null,
   "id": "126a7a8f-4e6f-4ca8-86cb-821573a31e6f",
   "metadata": {},
   "outputs": [],
   "source": [
    "# 5. Renombrar la columna para claridad\n",
    "df_type_mol.rename(columns={\"Precio PVP_Siegfried\": \"Precio_Siegfried\"}, inplace=True)\n",
    "df_type_dosis_mol.rename(columns={\"Precio PVP_Siegfried\": \"Precio_Siegfried\"}, inplace=True)\n",
    "\n",
    "# 6. Eliminar los precios de Siegfried para sus propias filas\n",
    "df_type_mol.loc[df[\"Laboratorio\"] == \"Siegfried\", \"Precio_Siegfried\"] = None\n",
    "df_type_dosis_mol.loc[df[\"Laboratorio\"] == \"Siegfried\", \"Precio_Siegfried\"] = None\n"
   ]
  },
  {
   "cell_type": "code",
   "execution_count": null,
   "id": "0c81e485-cec1-4592-a915-52e97f6722fd",
   "metadata": {},
   "outputs": [],
   "source": [
    "# Mostrar los primeros registros para verificar\n",
    "print(df_type_mol.head())"
   ]
  },
  {
   "cell_type": "code",
   "execution_count": null,
   "id": "66400092-f3e7-4713-931e-c7b9157103a9",
   "metadata": {},
   "outputs": [],
   "source": [
    "df_type_mol_conprecio = df_type_mol[df_type_mol[\"Precio_Siegfried\"].notna()]"
   ]
  },
  {
   "cell_type": "code",
   "execution_count": null,
   "id": "20edd7bc-5c95-467c-aa49-8f4ed86ce695",
   "metadata": {},
   "outputs": [],
   "source": [
    "# 7. Exportar los datos a un nuevo archivo Excel (opcional)\n",
    "ruta_salida = \"resultado.xlsx\"\n",
    "df.to_excel(ruta_salida, index=False)\n"
   ]
  }
 ],
 "metadata": {
  "kernelspec": {
   "display_name": "base",
   "language": "python",
   "name": "python3"
  },
  "language_info": {
   "codemirror_mode": {
    "name": "ipython",
    "version": 3
   },
   "file_extension": ".py",
   "mimetype": "text/x-python",
   "name": "python",
   "nbconvert_exporter": "python",
   "pygments_lexer": "ipython3",
   "version": "3.9.12"
  }
 },
 "nbformat": 4,
 "nbformat_minor": 5
}
