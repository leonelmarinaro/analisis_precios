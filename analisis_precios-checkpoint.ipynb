{
 "cells": [
  {
   "cell_type": "code",
   "execution_count": 1,
   "id": "3b96f997-5a89-4e5a-a9d6-935cdec2db56",
   "metadata": {},
   "outputs": [],
   "source": [
    "import pandas as pd"
   ]
  },
  {
   "cell_type": "code",
   "execution_count": 2,
   "id": "38e84f58-3374-4372-be92-6b5eab217e60",
   "metadata": {},
   "outputs": [],
   "source": [
    "# 1. Importar datos desde un archivo Excel\n",
    "# Cambia 'ruta_al_archivo.xlsx' por la ruta real de tu archivo\n",
    "ruta_archivo = \"ATENEO BASE PLANA (3).xlsx\"\n",
    "df = pd.read_excel(ruta_archivo, header=3)"
   ]
  },
  {
   "cell_type": "code",
   "execution_count": 3,
   "id": "9ee51acd-dfee-41a3-a309-80585d6e5464",
   "metadata": {},
   "outputs": [],
   "source": [
    "for col in df.select_dtypes(include=[\"object\", \"string\"]).columns:\n",
    "    df[col] = df[col].map(lambda x: x.strip() if isinstance(x, str) else x)"
   ]
  },
  {
   "cell_type": "code",
   "execution_count": 4,
   "id": "107bfc76-144d-4ec3-99ea-1ee1e544603c",
   "metadata": {},
   "outputs": [
    {
     "name": "stdout",
     "output_type": "stream",
     "text": [
      "<class 'pandas.core.frame.DataFrame'>\n",
      "Int64Index: 19351 entries, 115 to 257245\n",
      "Data columns (total 97 columns):\n",
      " #   Column                       Non-Null Count  Dtype  \n",
      "---  ------                       --------------  -----  \n",
      " 0   TIPO                         19351 non-null  object \n",
      " 1   TIPO-MERCADO                 19351 non-null  object \n",
      " 2   CODIGO                       19351 non-null  object \n",
      " 3   CT                           19351 non-null  object \n",
      " 4   CT4                          19351 non-null  object \n",
      " 5   Molécula(s)                  19351 non-null  object \n",
      " 6   Corp                         19351 non-null  object \n",
      " 7   Xplora                       19351 non-null  object \n",
      " 8   Laboratorio                  19351 non-null  object \n",
      " 9   Marca                        19351 non-null  object \n",
      " 10  Presentación                 19351 non-null  object \n",
      " 11  FF                           19234 non-null  object \n",
      " 12  Lab - Marca                  19351 non-null  object \n",
      " 13  Lab - Presentacion           19351 non-null  object \n",
      " 14  Mercado                      18391 non-null  object \n",
      " 15  Region                       18802 non-null  object \n",
      " 16  PrecioMesAct                 18752 non-null  float64\n",
      " 17  PrecioMesAnt                 18752 non-null  float64\n",
      " 18  Precio3                      17969 non-null  float64\n",
      " 19  Precio4                      17969 non-null  float64\n",
      " 20  Precio5                      17969 non-null  float64\n",
      " 21  Dosis                        710 non-null    float64\n",
      " 22  UN MAT 4                     19321 non-null  float64\n",
      " 23  UN MAT 3                     19330 non-null  float64\n",
      " 24  UN MAT 2                     19331 non-null  float64\n",
      " 25  UN MAT Ant.                  19342 non-null  float64\n",
      " 26  UN MAT Act.                  19348 non-null  float64\n",
      " 27  UN MTH 11                    19337 non-null  float64\n",
      " 28  UN MTH 10                    19335 non-null  float64\n",
      " 29  UN MTH 9                     19338 non-null  float64\n",
      " 30  UN MTH 8                     19340 non-null  float64\n",
      " 31  UN MTH 7                     19336 non-null  float64\n",
      " 32  UN MTH 6                     19337 non-null  float64\n",
      " 33  UN MTH 5                     19336 non-null  float64\n",
      " 34  UN MTH 4                     19335 non-null  float64\n",
      " 35  UN MTH 3                     19335 non-null  float64\n",
      " 36  UN MTH 2                     19336 non-null  float64\n",
      " 37  UN MTH Ant.                  19335 non-null  float64\n",
      " 38  UN MTH Act.                  19334 non-null  float64\n",
      " 39  UN YTD 4                     19321 non-null  float64\n",
      " 40  UN YTD 3                     19330 non-null  float64\n",
      " 41  UN YTD 2                     19331 non-null  float64\n",
      " 42  UN YTD Ant.                  19342 non-null  float64\n",
      " 43  UN YTD Act.                  19347 non-null  float64\n",
      " 44  USD MAT 4                    771 non-null    float64\n",
      " 45  USD MAT 3                    790 non-null    float64\n",
      " 46  USD MAT 2                    792 non-null    float64\n",
      " 47  USD MAT Ant.                 815 non-null    float64\n",
      " 48  USD MAT Act.                 830 non-null    float64\n",
      " 49  USD MTH 11                   808 non-null    float64\n",
      " 50  USD MTH 10                   803 non-null    float64\n",
      " 51  USD MTH 9                    810 non-null    float64\n",
      " 52  USD MTH 8                    811 non-null    float64\n",
      " 53  USD MTH 7                    806 non-null    float64\n",
      " 54  USD MTH 6                    807 non-null    float64\n",
      " 55  USD MTH 5                    812 non-null    float64\n",
      " 56  USD MTH 4                    810 non-null    float64\n",
      " 57  USD MTH 3                    811 non-null    float64\n",
      " 58  USD MTH 2                    811 non-null    float64\n",
      " 59  USD MTH Ant.                 810 non-null    float64\n",
      " 60  USD MTH Act.                 810 non-null    float64\n",
      " 61  USD YTD 4                    771 non-null    float64\n",
      " 62  USD YTD 3                    790 non-null    float64\n",
      " 63  USD YTD 2                    792 non-null    float64\n",
      " 64  USD YTD Ant.                 815 non-null    float64\n",
      " 65  USD YTD Act.                 827 non-null    float64\n",
      " 66  LC MAT 4                     771 non-null    float64\n",
      " 67  LC MAT 3                     790 non-null    float64\n",
      " 68  LC MAT 2                     792 non-null    float64\n",
      " 69  LC MAT Ant.                  815 non-null    float64\n",
      " 70  LC MAT Act.                  830 non-null    float64\n",
      " 71  LC MTH 11                    808 non-null    float64\n",
      " 72  LC MTH 10                    804 non-null    float64\n",
      " 73  LC MTH 9                     810 non-null    float64\n",
      " 74  LC MTH 8                     813 non-null    float64\n",
      " 75  LC MTH 7                     807 non-null    float64\n",
      " 76  LC MTH 6                     808 non-null    float64\n",
      " 77  LC MTH 5                     812 non-null    float64\n",
      " 78  LC MTH 4                     810 non-null    float64\n",
      " 79  LC MTH 3                     811 non-null    float64\n",
      " 80  LC MTH 2                     811 non-null    float64\n",
      " 81  LC MTH Ant.                  810 non-null    float64\n",
      " 82  LC MTH Act.                  810 non-null    float64\n",
      " 83  LC YTD 4                     771 non-null    float64\n",
      " 84  LC YTD 3                     790 non-null    float64\n",
      " 85  LC YTD 2                     792 non-null    float64\n",
      " 86  LC YTD Ant.                  815 non-null    float64\n",
      " 87  LC YTD Act.                  828 non-null    float64\n",
      " 88  precio prom                  0 non-null      float64\n",
      " 89  Dosis2                       19289 non-null  float64\n",
      " 90  Concentration Type & Factor  831 non-null    object \n",
      " 91  manual farmaceutico          833 non-null    object \n",
      " 92  Dosis3                       19289 non-null  float64\n",
      " 93  Precio PVP                   19338 non-null  float64\n",
      " 94  Fecha version                19351 non-null  object \n",
      " 95  duplicados                   19351 non-null  int64  \n",
      " 96  ATC IV                       19351 non-null  object \n",
      "dtypes: float64(76), int64(1), object(20)\n",
      "memory usage: 14.5+ MB\n"
     ]
    }
   ],
   "source": [
    "# 3. Filtrar los datos del laboratorio \"Siegfried\"\n",
    "df_siegfried = df[df[\"Laboratorio\"].str.strip() == \"Siegfried\"]\n",
    "df_siegfried.info()"
   ]
  },
  {
   "cell_type": "code",
   "execution_count": 5,
   "id": "3cb5caf1-8c6c-45a3-a143-a79feee74aba",
   "metadata": {},
   "outputs": [],
   "source": [
    "# Elimina columnas de la 22 a la 88 (índices basados en 0)\n",
    "df_short = df.drop(df.iloc[:, 22:89], axis=1)"
   ]
  },
  {
   "cell_type": "code",
   "execution_count": 6,
   "id": "0ac4aab7",
   "metadata": {},
   "outputs": [],
   "source": [
    "df_short[\"dosis_aux\"] = df_short[\"Dosis3\"].map(lambda x: 30 if x == 28 else x)"
   ]
  },
  {
   "cell_type": "code",
   "execution_count": 7,
   "id": "c1054f49",
   "metadata": {},
   "outputs": [],
   "source": [
    "# Ahora hacemos merge sobre el df completo\n",
    "df_completo_type_dosis_mol = df_short.merge(\n",
    "    df_siegfried[[\"Concentration Type & Factor\", \"Dosis3\", \"Molécula(s)\", \"Precio PVP\"]],\n",
    "    left_on=['dosis_aux', 'Concentration Type & Factor', 'Molécula(s)'], \n",
    "    right_on=['Dosis3', 'Concentration Type & Factor', 'Molécula(s)'],\n",
    "    how=\"left\",\n",
    "    suffixes=(\"\", \"_Siegfried\")\n",
    ")\n"
   ]
  },
  {
   "cell_type": "code",
   "execution_count": 8,
   "id": "08b018e3-2ed9-40c0-b182-64b8b8c969d2",
   "metadata": {},
   "outputs": [],
   "source": [
    "# Renombrar la columna\n",
    "df_completo_type_dosis_mol.rename(columns={\"Precio PVP_Siegfried\": \"Precio_Siegfried\"}, inplace=True)\n",
    "\n",
    "# Corregir la condición de la asignación\n",
    "df_completo_type_dosis_mol.loc[\n",
    "    df_completo_type_dosis_mol[\"Laboratorio\"] == \"Siegfried\", \"Precio_Siegfried\"\n",
    "] = None\n",
    "\n",
    "# Guardar el DataFrame como archivo CSV\n",
    "# df_completo_type_dosis_mol.to_csv(\"df_completo_type_dosis_mol.csv\", index=False)"
   ]
  },
  {
   "cell_type": "code",
   "execution_count": 9,
   "id": "5b7591ee-73e8-4fe2-adee-ca2d50df91fc",
   "metadata": {},
   "outputs": [],
   "source": [
    "df_completo_type_dosis_mol['dif_vs_sieg'] = (\n",
    "    df_completo_type_dosis_mol['Precio_Siegfried'] / df_completo_type_dosis_mol['Precio PVP'] - 1\n",
    ")"
   ]
  },
  {
   "cell_type": "code",
   "execution_count": 10,
   "id": "7d3d2b41-b4e1-4b00-9f6c-4e7e3a75ccb0",
   "metadata": {},
   "outputs": [
    {
     "name": "stdout",
     "output_type": "stream",
     "text": [
      "    Precio_Siegfried  Precio PVP  dif_vs_sieg\n",
      "20          34417.94    58704.56    -0.413709\n",
      "21          34417.94    58704.56    -0.413709\n",
      "27          19093.08    20555.00    -0.071122\n",
      "28          13512.67    20555.00    -0.342609\n",
      "29          19093.08    20555.00    -0.071122\n"
     ]
    }
   ],
   "source": [
    "print(df_completo_type_dosis_mol[df_completo_type_dosis_mol['dif_vs_sieg'].notna()][['Precio_Siegfried', 'Precio PVP', 'dif_vs_sieg']].head())\n"
   ]
  },
  {
   "cell_type": "code",
   "execution_count": 11,
   "id": "30829e96-4c6b-4a1c-8198-5f2e4ba9803a",
   "metadata": {},
   "outputs": [
    {
     "name": "stdout",
     "output_type": "stream",
     "text": [
      "<class 'pandas.core.frame.DataFrame'>\n",
      "Int64Index: 16745757 entries, 0 to 16745756\n",
      "Data columns (total 34 columns):\n",
      " #   Column                       Dtype  \n",
      "---  ------                       -----  \n",
      " 0   TIPO                         object \n",
      " 1   TIPO-MERCADO                 object \n",
      " 2   CODIGO                       object \n",
      " 3   CT                           object \n",
      " 4   CT4                          object \n",
      " 5   Molécula(s)                  object \n",
      " 6   Corp                         object \n",
      " 7   Xplora                       object \n",
      " 8   Laboratorio                  object \n",
      " 9   Marca                        object \n",
      " 10  Presentación                 object \n",
      " 11  FF                           object \n",
      " 12  Lab - Marca                  object \n",
      " 13  Lab - Presentacion           object \n",
      " 14  Mercado                      object \n",
      " 15  Region                       object \n",
      " 16  PrecioMesAct                 float64\n",
      " 17  PrecioMesAnt                 float64\n",
      " 18  Precio3                      float64\n",
      " 19  Precio4                      float64\n",
      " 20  Precio5                      float64\n",
      " 21  Dosis                        float64\n",
      " 22  Dosis2                       float64\n",
      " 23  Concentration Type & Factor  object \n",
      " 24  manual farmaceutico          object \n",
      " 25  Dosis3                       float64\n",
      " 26  Precio PVP                   float64\n",
      " 27  Fecha version                object \n",
      " 28  duplicados                   int64  \n",
      " 29  ATC IV                       object \n",
      " 30  dosis_aux                    float64\n",
      " 31  Dosis3_Siegfried             float64\n",
      " 32  Precio_Siegfried             float64\n",
      " 33  dif_vs_sieg                  float64\n",
      "dtypes: float64(13), int64(1), object(20)\n",
      "memory usage: 4.4+ GB\n"
     ]
    }
   ],
   "source": [
    "df_completo_type_dosis_mol.info()"
   ]
  },
  {
   "cell_type": "code",
   "execution_count": 12,
   "id": "0bea8ee7-dfdf-4b75-8b91-96bd51c6dcab",
   "metadata": {},
   "outputs": [
    {
     "data": {
      "text/plain": [
       "0    2\n",
       "1    1\n",
       "2    1\n",
       "3    1\n",
       "4    1\n",
       "Name: duplicados, dtype: int64"
      ]
     },
     "execution_count": 12,
     "metadata": {},
     "output_type": "execute_result"
    }
   ],
   "source": [
    "df_completo_type_dosis_mol.duplicados.head()"
   ]
  },
  {
   "cell_type": "code",
   "execution_count": 13,
   "id": "ebeef51d-28d0-46cd-912a-bb1b01fc9010",
   "metadata": {},
   "outputs": [
    {
     "ename": "ValueError",
     "evalue": "This sheet is too large! Your sheet size is: 16745757, 34 Max sheet size is: 1048576, 16384",
     "output_type": "error",
     "traceback": [
      "\u001b[1;31m---------------------------------------------------------------------------\u001b[0m",
      "\u001b[1;31mValueError\u001b[0m                                Traceback (most recent call last)",
      "Input \u001b[1;32mIn [13]\u001b[0m, in \u001b[0;36m<cell line: 1>\u001b[1;34m()\u001b[0m\n\u001b[1;32m----> 1\u001b[0m \u001b[43mdf_completo_type_dosis_mol\u001b[49m\u001b[38;5;241;43m.\u001b[39;49m\u001b[43mto_excel\u001b[49m\u001b[43m(\u001b[49m\u001b[38;5;124;43m\"\u001b[39;49m\u001b[38;5;124;43mdf_completo_type_dosisaux_mol.xlsx\u001b[39;49m\u001b[38;5;124;43m\"\u001b[39;49m\u001b[43m,\u001b[49m\u001b[43m \u001b[49m\u001b[43mindex\u001b[49m\u001b[38;5;241;43m=\u001b[39;49m\u001b[38;5;28;43;01mFalse\u001b[39;49;00m\u001b[43m)\u001b[49m\n",
      "File \u001b[1;32mc:\\Users\\marin\\anaconda3\\lib\\site-packages\\pandas\\core\\generic.py:2345\u001b[0m, in \u001b[0;36mNDFrame.to_excel\u001b[1;34m(self, excel_writer, sheet_name, na_rep, float_format, columns, header, index, index_label, startrow, startcol, engine, merge_cells, encoding, inf_rep, verbose, freeze_panes, storage_options)\u001b[0m\n\u001b[0;32m   2332\u001b[0m \u001b[38;5;28;01mfrom\u001b[39;00m \u001b[38;5;21;01mpandas\u001b[39;00m\u001b[38;5;21;01m.\u001b[39;00m\u001b[38;5;21;01mio\u001b[39;00m\u001b[38;5;21;01m.\u001b[39;00m\u001b[38;5;21;01mformats\u001b[39;00m\u001b[38;5;21;01m.\u001b[39;00m\u001b[38;5;21;01mexcel\u001b[39;00m \u001b[38;5;28;01mimport\u001b[39;00m ExcelFormatter\n\u001b[0;32m   2334\u001b[0m formatter \u001b[38;5;241m=\u001b[39m ExcelFormatter(\n\u001b[0;32m   2335\u001b[0m     df,\n\u001b[0;32m   2336\u001b[0m     na_rep\u001b[38;5;241m=\u001b[39mna_rep,\n\u001b[1;32m   (...)\u001b[0m\n\u001b[0;32m   2343\u001b[0m     inf_rep\u001b[38;5;241m=\u001b[39minf_rep,\n\u001b[0;32m   2344\u001b[0m )\n\u001b[1;32m-> 2345\u001b[0m \u001b[43mformatter\u001b[49m\u001b[38;5;241;43m.\u001b[39;49m\u001b[43mwrite\u001b[49m\u001b[43m(\u001b[49m\n\u001b[0;32m   2346\u001b[0m \u001b[43m    \u001b[49m\u001b[43mexcel_writer\u001b[49m\u001b[43m,\u001b[49m\n\u001b[0;32m   2347\u001b[0m \u001b[43m    \u001b[49m\u001b[43msheet_name\u001b[49m\u001b[38;5;241;43m=\u001b[39;49m\u001b[43msheet_name\u001b[49m\u001b[43m,\u001b[49m\n\u001b[0;32m   2348\u001b[0m \u001b[43m    \u001b[49m\u001b[43mstartrow\u001b[49m\u001b[38;5;241;43m=\u001b[39;49m\u001b[43mstartrow\u001b[49m\u001b[43m,\u001b[49m\n\u001b[0;32m   2349\u001b[0m \u001b[43m    \u001b[49m\u001b[43mstartcol\u001b[49m\u001b[38;5;241;43m=\u001b[39;49m\u001b[43mstartcol\u001b[49m\u001b[43m,\u001b[49m\n\u001b[0;32m   2350\u001b[0m \u001b[43m    \u001b[49m\u001b[43mfreeze_panes\u001b[49m\u001b[38;5;241;43m=\u001b[39;49m\u001b[43mfreeze_panes\u001b[49m\u001b[43m,\u001b[49m\n\u001b[0;32m   2351\u001b[0m \u001b[43m    \u001b[49m\u001b[43mengine\u001b[49m\u001b[38;5;241;43m=\u001b[39;49m\u001b[43mengine\u001b[49m\u001b[43m,\u001b[49m\n\u001b[0;32m   2352\u001b[0m \u001b[43m    \u001b[49m\u001b[43mstorage_options\u001b[49m\u001b[38;5;241;43m=\u001b[39;49m\u001b[43mstorage_options\u001b[49m\u001b[43m,\u001b[49m\n\u001b[0;32m   2353\u001b[0m \u001b[43m\u001b[49m\u001b[43m)\u001b[49m\n",
      "File \u001b[1;32mc:\\Users\\marin\\anaconda3\\lib\\site-packages\\pandas\\io\\formats\\excel.py:877\u001b[0m, in \u001b[0;36mExcelFormatter.write\u001b[1;34m(self, writer, sheet_name, startrow, startcol, freeze_panes, engine, storage_options)\u001b[0m\n\u001b[0;32m    875\u001b[0m num_rows, num_cols \u001b[38;5;241m=\u001b[39m \u001b[38;5;28mself\u001b[39m\u001b[38;5;241m.\u001b[39mdf\u001b[38;5;241m.\u001b[39mshape\n\u001b[0;32m    876\u001b[0m \u001b[38;5;28;01mif\u001b[39;00m num_rows \u001b[38;5;241m>\u001b[39m \u001b[38;5;28mself\u001b[39m\u001b[38;5;241m.\u001b[39mmax_rows \u001b[38;5;129;01mor\u001b[39;00m num_cols \u001b[38;5;241m>\u001b[39m \u001b[38;5;28mself\u001b[39m\u001b[38;5;241m.\u001b[39mmax_cols:\n\u001b[1;32m--> 877\u001b[0m     \u001b[38;5;28;01mraise\u001b[39;00m \u001b[38;5;167;01mValueError\u001b[39;00m(\n\u001b[0;32m    878\u001b[0m         \u001b[38;5;124mf\u001b[39m\u001b[38;5;124m\"\u001b[39m\u001b[38;5;124mThis sheet is too large! Your sheet size is: \u001b[39m\u001b[38;5;132;01m{\u001b[39;00mnum_rows\u001b[38;5;132;01m}\u001b[39;00m\u001b[38;5;124m, \u001b[39m\u001b[38;5;132;01m{\u001b[39;00mnum_cols\u001b[38;5;132;01m}\u001b[39;00m\u001b[38;5;124m \u001b[39m\u001b[38;5;124m\"\u001b[39m\n\u001b[0;32m    879\u001b[0m         \u001b[38;5;124mf\u001b[39m\u001b[38;5;124m\"\u001b[39m\u001b[38;5;124mMax sheet size is: \u001b[39m\u001b[38;5;132;01m{\u001b[39;00m\u001b[38;5;28mself\u001b[39m\u001b[38;5;241m.\u001b[39mmax_rows\u001b[38;5;132;01m}\u001b[39;00m\u001b[38;5;124m, \u001b[39m\u001b[38;5;132;01m{\u001b[39;00m\u001b[38;5;28mself\u001b[39m\u001b[38;5;241m.\u001b[39mmax_cols\u001b[38;5;132;01m}\u001b[39;00m\u001b[38;5;124m\"\u001b[39m\n\u001b[0;32m    880\u001b[0m     )\n\u001b[0;32m    882\u001b[0m formatted_cells \u001b[38;5;241m=\u001b[39m \u001b[38;5;28mself\u001b[39m\u001b[38;5;241m.\u001b[39mget_formatted_cells()\n\u001b[0;32m    883\u001b[0m \u001b[38;5;28;01mif\u001b[39;00m \u001b[38;5;28misinstance\u001b[39m(writer, ExcelWriter):\n",
      "\u001b[1;31mValueError\u001b[0m: This sheet is too large! Your sheet size is: 16745757, 34 Max sheet size is: 1048576, 16384"
     ]
    }
   ],
   "source": [
    "df_completo_type_dosis_mol.to_excel(\"df_completo_type_dosisaux_mol.xlsx\", index=False)"
   ]
  },
  {
   "cell_type": "code",
   "execution_count": null,
   "id": "0da2ea23-4b6d-41f8-83ae-97366a9ee005",
   "metadata": {},
   "outputs": [],
   "source": []
  },
  {
   "cell_type": "code",
   "execution_count": null,
   "id": "add4f001-0408-4e0c-beb5-159f59a70731",
   "metadata": {
    "scrolled": true
   },
   "outputs": [],
   "source": [
    "# 1. Establecer la primera fila como encabezado\n",
    "#df.columns = df.iloc[0]  # Establecer la primera fila como encabezado (índice 0)\n",
    "\n",
    "# 2. Eliminar la fila que se usó como encabezado\n",
    "#df = df.drop(0).reset_index(drop=True)\n",
    "df.head()"
   ]
  },
  {
   "cell_type": "code",
   "execution_count": null,
   "id": "1e65421f-872d-41a1-b57a-96af17ce6502",
   "metadata": {},
   "outputs": [],
   "source": [
    "df.columns"
   ]
  },
  {
   "cell_type": "code",
   "execution_count": null,
   "id": "14cb54df-0d8a-4266-9d49-e9025d8597b6",
   "metadata": {},
   "outputs": [],
   "source": [
    "# 2. Seleccionar solo las columnas necesarias\n",
    "# Cambia los nombres de las columnas por los que están en tu archivo Excel\n",
    "columnas_necesarias = [\"Laboratorio\", \"Concentration Type & Factor\", \"Dosis3\", \"Molécula(s)\", \"Precio PVP\"]\n",
    "df_short = df[columnas_necesarias]"
   ]
  },
  {
   "cell_type": "code",
   "execution_count": null,
   "id": "1239060d-6828-4fb6-a4ed-8eef87782b20",
   "metadata": {},
   "outputs": [],
   "source": [
    "df_short = df_short.applymap(lambda x: x.strip() if isinstance(x, str) else x)"
   ]
  },
  {
   "cell_type": "code",
   "execution_count": null,
   "id": "192bca71-8077-4e44-9cce-521619226813",
   "metadata": {},
   "outputs": [],
   "source": [
    "for col in df_short.select_dtypes(include=[\"object\", \"string\"]).columns:\n",
    "    df_short[col] = df_short[col].map(lambda x: x.strip() if isinstance(x, str) else x)\n"
   ]
  },
  {
   "cell_type": "code",
   "execution_count": null,
   "id": "b0b2c1f8-158b-4f2c-af0e-3cc41e3397ac",
   "metadata": {},
   "outputs": [],
   "source": [
    "df_type_dosis_mol = df_short.merge(\n",
    "    df_siegfried[[\"Concentration Type & Factor\", \"Dosis3\", \"Molécula(s)\", \"Precio PVP\"]],\n",
    "    on=[\"Concentration Type & Factor\", \"Dosis3\", \"Molécula(s)\"],\n",
    "    how=\"left\",\n",
    "    suffixes=(\"\", \"_Siegfried\")\n",
    ")"
   ]
  },
  {
   "cell_type": "code",
   "execution_count": null,
   "id": "8062b3bc-c7c1-4048-bfbe-26e81187d1f7",
   "metadata": {},
   "outputs": [],
   "source": [
    "df_type_dosis_mol.describe()"
   ]
  },
  {
   "cell_type": "code",
   "execution_count": null,
   "id": "5fd003bd-7e04-4c6d-a6dc-50a74674e16f",
   "metadata": {},
   "outputs": [],
   "source": [
    "df_type_dosis_mol.info()"
   ]
  },
  {
   "cell_type": "code",
   "execution_count": null,
   "id": "77125605-a351-4f21-8f14-0961e88578fe",
   "metadata": {},
   "outputs": [],
   "source": [
    "# 4. Realizar un merge para agregar los precios de Siegfried al DataFrame original\n",
    "df_type_mol = df_short.merge(\n",
    "    df_siegfried[[\"Concentration Type & Factor\", \"Dosis3\", \"Molécula(s)\", \"Precio PVP\"]],\n",
    "    on=[\"Concentration Type & Factor\", \"Molécula(s)\"],\n",
    "    how=\"left\",\n",
    "    suffixes=(\"\", \"_Siegfried\")\n",
    ")"
   ]
  },
  {
   "cell_type": "code",
   "execution_count": null,
   "id": "4c0626a4-c5e3-4176-852a-7fbf32fcca23",
   "metadata": {},
   "outputs": [],
   "source": [
    "df_type_mol.describe()"
   ]
  },
  {
   "cell_type": "code",
   "execution_count": null,
   "id": "a36e79cd-79d9-4084-b6b8-4f0eb9130577",
   "metadata": {},
   "outputs": [],
   "source": [
    "df_type_mol.info()"
   ]
  },
  {
   "cell_type": "code",
   "execution_count": null,
   "id": "260ddd72-36a5-425a-9777-5ab0cc3f5890",
   "metadata": {},
   "outputs": [],
   "source": [
    "df_type_mol.to_csv(\"tipo_mol.csv\", index=False)\n",
    "df_type_dosis_mol.to_csv(\"tipo_molecula_dosis.csv\", index=False)\n"
   ]
  },
  {
   "cell_type": "code",
   "execution_count": null,
   "id": "f4452378-9b0d-4688-b89c-58c105448c01",
   "metadata": {},
   "outputs": [],
   "source": [
    "df_type_dosis_mol[df_type_dosis_mol[\"Molécula(s)\"] == \"Aciclovir\"].head()"
   ]
  },
  {
   "cell_type": "code",
   "execution_count": null,
   "id": "0b18512f-8364-41b5-b61b-d58e3a27a78c",
   "metadata": {},
   "outputs": [],
   "source": [
    "df_siegfried.describe()"
   ]
  },
  {
   "cell_type": "code",
   "execution_count": null,
   "id": "b48c4825-217f-4331-85a3-c27e1380fa94",
   "metadata": {},
   "outputs": [],
   "source": [
    "df_short[df_short[\"Laboratorio\"].str.strip() == \"Siegfried\"].count()"
   ]
  },
  {
   "cell_type": "code",
   "execution_count": null,
   "id": "126a7a8f-4e6f-4ca8-86cb-821573a31e6f",
   "metadata": {},
   "outputs": [],
   "source": [
    "# 5. Renombrar la columna para claridad\n",
    "df_type_mol.rename(columns={\"Precio PVP_Siegfried\": \"Precio_Siegfried\"}, inplace=True)\n",
    "df_type_dosis_mol.rename(columns={\"Precio PVP_Siegfried\": \"Precio_Siegfried\"}, inplace=True)\n",
    "\n",
    "# 6. Eliminar los precios de Siegfried para sus propias filas\n",
    "df_type_mol.loc[df[\"Laboratorio\"] == \"Siegfried\", \"Precio_Siegfried\"] = None\n",
    "df_type_dosis_mol.loc[df[\"Laboratorio\"] == \"Siegfried\", \"Precio_Siegfried\"] = None\n"
   ]
  },
  {
   "cell_type": "code",
   "execution_count": null,
   "id": "0c81e485-cec1-4592-a915-52e97f6722fd",
   "metadata": {},
   "outputs": [],
   "source": [
    "# Mostrar los primeros registros para verificar\n",
    "print(df_type_mol.head())"
   ]
  },
  {
   "cell_type": "code",
   "execution_count": null,
   "id": "66400092-f3e7-4713-931e-c7b9157103a9",
   "metadata": {},
   "outputs": [],
   "source": [
    "df_type_mol_conprecio = df_type_mol[df_type_mol[\"Precio_Siegfried\"].notna()]"
   ]
  },
  {
   "cell_type": "code",
   "execution_count": null,
   "id": "20edd7bc-5c95-467c-aa49-8f4ed86ce695",
   "metadata": {},
   "outputs": [],
   "source": [
    "# 7. Exportar los datos a un nuevo archivo Excel (opcional)\n",
    "ruta_salida = \"resultado.xlsx\"\n",
    "df.to_excel(ruta_salida, index=False)\n"
   ]
  }
 ],
 "metadata": {
  "kernelspec": {
   "display_name": "base",
   "language": "python",
   "name": "python3"
  },
  "language_info": {
   "codemirror_mode": {
    "name": "ipython",
    "version": 3
   },
   "file_extension": ".py",
   "mimetype": "text/x-python",
   "name": "python",
   "nbconvert_exporter": "python",
   "pygments_lexer": "ipython3",
   "version": "3.9.12"
  }
 },
 "nbformat": 4,
 "nbformat_minor": 5
}
