{
 "cells": [
  {
   "cell_type": "code",
   "execution_count": null,
   "metadata": {
    "vscode": {
     "languageId": "plaintext"
    }
   },
   "outputs": [],
   "source": [
    "import polars as pl\n",
    "\n",
    "# 1. Importar datos desde un archivo Excel\n",
    "ruta_archivo = \"ATENEO BASE PLANA (3).xlsx\"\n",
    "df = pl.read_excel(ruta_archivo, sheet_name=0, skip_rows=3)\n",
    "\n",
    "# 2. Limpiar espacios en blanco en columnas de tipo string\n",
    "df = df.with_columns([\n",
    "    pl.col(col).str.strip().alias(col) if pl.col(col).dtype == pl.Utf8 else pl.col(col)\n",
    "    for col in df.columns\n",
    "])\n",
    "\n",
    "# 3. Filtrar los datos del laboratorio \"Siegfried\"\n",
    "df_siegfried = df.filter(pl.col(\"Laboratorio\").str.strip() == \"Siegfried\")\n",
    "df_siegfried.describe()\n",
    "\n",
    "# 4. Hacer merge sobre el df completo\n",
    "df_completo_type_dosis_mol = df.join(\n",
    "    df_siegfried.select([\"Concentration Type & Factor\", \"Dosis3\", \"Molécula(s)\", \"Precio PVP\"]),\n",
    "    on=[\"Concentration Type & Factor\", \"Dosis3\", \"Molécula(s)\"],\n",
    "    how=\"left\"\n",
    ").with_column(\n",
    "    pl.col(\"Precio PVP\").alias(\"Precio_Siegfried\")\n",
    ")\n",
    "\n",
    "# Elimina columnas de la 22 a la 88 (índices basados en 0)\n",
    "columnas_a_eliminar = df.columns[22:89]\n",
    "df = df.drop(columnas_a_eliminar)\n",
    "\n",
    "# 5. Eliminar el precio duplicado para \"Siegfried\"\n",
    "df_completo_type_dosis_mol = df_completo_type_dosis_mol.with_column(\n",
    "    pl.when(pl.col(\"Laboratorio\") == \"Siegfried\")\n",
    "    .then(None)\n",
    "    .otherwise(pl.col(\"Precio_Siegfried\"))\n",
    "    .alias(\"Precio_Siegfried\")\n",
    ")\n",
    "\n",
    "# 6. Guardar el resultado en un archivo CSV\n",
    "df_completo_type_dosis_mol.write_csv(\"df_completo_type_dosis_mol.csv\")"
   ]
  }
 ],
 "metadata": {
  "language_info": {
   "name": "python"
  }
 },
 "nbformat": 4,
 "nbformat_minor": 2
}
